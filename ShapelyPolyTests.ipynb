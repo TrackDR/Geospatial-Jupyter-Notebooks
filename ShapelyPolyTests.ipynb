{
 "cells": [
  {
   "cell_type": "code",
   "execution_count": 1,
   "metadata": {},
   "outputs": [
    {
     "name": "stdout",
     "output_type": "stream",
     "text": [
      "Requirement already satisfied: shapely==1.6b4 in /opt/conda/envs/python2/lib/python2.7/site-packages\r\n"
     ]
    }
   ],
   "source": [
    "!pip install shapely==1.6b4"
   ]
  },
  {
   "cell_type": "code",
   "execution_count": 2,
   "metadata": {},
   "outputs": [],
   "source": [
    "from shapely.geometry import Polygon\n",
    "import matplotlib.pyplot as plt\n",
    "%matplotlib inline\n",
    "import numpy as np"
   ]
  },
  {
   "cell_type": "code",
   "execution_count": 3,
   "metadata": {
    "collapsed": true
   },
   "outputs": [],
   "source": [
    "from shapely.ops import cascaded_union"
   ]
  },
  {
   "cell_type": "code",
   "execution_count": 4,
   "metadata": {
    "collapsed": true
   },
   "outputs": [],
   "source": [
    "p0 = Polygon([[0, 0], [1, 0], [1, 1], [0, 1]])"
   ]
  },
  {
   "cell_type": "code",
   "execution_count": 5,
   "metadata": {},
   "outputs": [],
   "source": [
    "p1 = Polygon([[0.5, 0.5], [1.5, 0.5], [1.5, 1.5], [0.5, 1.5]])"
   ]
  },
  {
   "cell_type": "code",
   "execution_count": 6,
   "metadata": {
    "collapsed": true
   },
   "outputs": [],
   "source": [
    "p2 = Polygon([[1, 1], [2, 1], [2, 2], [1, 2]])"
   ]
  },
  {
   "cell_type": "code",
   "execution_count": 7,
   "metadata": {},
   "outputs": [],
   "source": [
    "p3 = Polygon([[1, 0], [2, 0], [2, 1], [1, 1]])"
   ]
  },
  {
   "cell_type": "code",
   "execution_count": 8,
   "metadata": {
    "collapsed": true
   },
   "outputs": [],
   "source": [
    "p4 = Polygon([[0.25, 0.25], [0.75, 0.25], [0.75, 0.75], [0.25, 0.75]])"
   ]
  },
  {
   "cell_type": "code",
   "execution_count": 9,
   "metadata": {
    "collapsed": true
   },
   "outputs": [],
   "source": [
    "p5 = Polygon([[0.75, 0.25], [1.25, 0.25], [1.25, 0.75], [0.75, 0.75]])"
   ]
  },
  {
   "cell_type": "code",
   "execution_count": 10,
   "metadata": {
    "collapsed": true
   },
   "outputs": [],
   "source": [
    "p6 = Polygon([[1.0, 0.25], [1.5, 0.25], [1.5, 0.75], [1.0, 0.75]])"
   ]
  },
  {
   "cell_type": "code",
   "execution_count": 11,
   "metadata": {},
   "outputs": [
    {
     "data": {
      "text/plain": [
       "(<shapely.geometry.polygon.Polygon at 0x7f1b2357f990>,\n",
       " <shapely.geometry.polygon.Polygon at 0x7f1b2357fa90>,\n",
       " <shapely.geometry.polygon.Polygon at 0x7f1b2357fa10>,\n",
       " <shapely.geometry.polygon.Polygon at 0x7f1b2357fb90>,\n",
       " <shapely.geometry.polygon.Polygon at 0x7f1b2357fb10>,\n",
       " <shapely.geometry.polygon.Polygon at 0x7f1b2357f8d0>,\n",
       " <shapely.geometry.polygon.Polygon at 0x7f1b2357fc90>)"
      ]
     },
     "execution_count": 11,
     "metadata": {},
     "output_type": "execute_result"
    }
   ],
   "source": [
    "p0, p1, p2, p3, p4, p5, p6"
   ]
  },
  {
   "cell_type": "code",
   "execution_count": 12,
   "metadata": {
    "collapsed": true
   },
   "outputs": [],
   "source": [
    "def plotpoly(bbuf):\n",
    "    c=np.random.rand(3,)\n",
    "    x,y=bbuf.exterior.coords.xy\n",
    "    plt.plot(x,y,c=c)\n",
    "    \n",
    "def plotpolys(bbuf):\n",
    "    plotmargin = 0.25\n",
    "    for n in range(len(bbuf)):\n",
    "        c=np.random.rand(3,)\n",
    "        x,y=bbuf[n].exterior.coords.xy\n",
    "        plt.plot(x,y,c=c)\n",
    "    x0, x1, y0, y1 = plt.axis()\n",
    "    plt.axis((x0 - plotmargin,\n",
    "          x1 + plotmargin,\n",
    "          y0 - plotmargin,\n",
    "          y1 + plotmargin))"
   ]
  },
  {
   "cell_type": "code",
   "execution_count": 13,
   "metadata": {},
   "outputs": [],
   "source": [
    "def plotpolynum(bbuf,ax,c,nstr):\n",
    "    xc,yc=bbuf.centroid.xy\n",
    "    print(xc[0],yc[0])\n",
    "    plt.text(xc[0],yc[0],nstr)"
   ]
  },
  {
   "cell_type": "code",
   "execution_count": 14,
   "metadata": {},
   "outputs": [],
   "source": [
    "def printpolysrelationships(a,b):\n",
    "    print 'Intersects Touches Crosses Overlaps Within Contains Disjoint Relate'\n",
    "    intersects=str(a.intersects(b))\n",
    "    touches=str(a.touches(b))\n",
    "    crosses=str(a.crosses(b))\n",
    "    overlaps=str(a.overlaps(b))\n",
    "    within=str(a.within(b))\n",
    "    contains=str(a.contains(b))\n",
    "    disjoint=str(a.disjoint(b))\n",
    "    relate=str(a.relate(b))\n",
    "    printstring = \"{:10} {:7} {:7} {:8} {:6} {:8} {:8} {}\"\n",
    "    print printstring.format(intersects, touches, crosses, overlaps, within, contains, disjoint, relate)"
   ]
  },
  {
   "cell_type": "code",
   "execution_count": 15,
   "metadata": {},
   "outputs": [
    {
     "data": {
      "image/png": "[encoded data removed]",
      "text/plain": [
       "<matplotlib.figure.Figure at 0x7f1b4844bed0>"
      ]
     },
     "metadata": {},
     "output_type": "display_data"
    }
   ],
   "source": [
    "plotpolys([p0,p1])"
   ]
  },
  {
   "cell_type": "code",
   "execution_count": 16,
   "metadata": {},
   "outputs": [
    {
     "name": "stdout",
     "output_type": "stream",
     "text": [
      "Intersects Touches Crosses Overlaps Within Contains Disjoint Relate\n",
      "True       False   False   True     False  False    False    212101212\n"
     ]
    }
   ],
   "source": [
    "printpolysrelationships(p0,p1)"
   ]
  },
  {
   "cell_type": "code",
   "execution_count": 17,
   "metadata": {},
   "outputs": [
    {
     "data": {
      "image/png": "[encoded data removed]",
      "text/plain": [
       "<matplotlib.figure.Figure at 0x7f1b4844be50>"
      ]
     },
     "metadata": {},
     "output_type": "display_data"
    }
   ],
   "source": [
    "plotpolys([p0,p2])"
   ]
  },
  {
   "cell_type": "code",
   "execution_count": 18,
   "metadata": {},
   "outputs": [
    {
     "name": "stdout",
     "output_type": "stream",
     "text": [
      "Intersects Touches Crosses Overlaps Within Contains Disjoint Relate\n",
      "True       True    False   False    False  False    False    FF2F01212\n"
     ]
    }
   ],
   "source": [
    "printpolysrelationships(p0,p2)"
   ]
  },
  {
   "cell_type": "code",
   "execution_count": 19,
   "metadata": {},
   "outputs": [
    {
     "data": {
      "image/png": "[encoded data removed]",
      "text/plain": [
       "<matplotlib.figure.Figure at 0x7f1b48512690>"
      ]
     },
     "metadata": {},
     "output_type": "display_data"
    }
   ],
   "source": [
    "plotpolys([p0,p3])"
   ]
  },
  {
   "cell_type": "code",
   "execution_count": 20,
   "metadata": {},
   "outputs": [
    {
     "name": "stdout",
     "output_type": "stream",
     "text": [
      "Intersects Touches Crosses Overlaps Within Contains Disjoint Relate\n",
      "True       True    False   False    False  False    False    FF2F11212\n"
     ]
    }
   ],
   "source": [
    "printpolysrelationships(p0,p3)"
   ]
  },
  {
   "cell_type": "code",
   "execution_count": 21,
   "metadata": {},
   "outputs": [
    {
     "data": {
      "image/png": "[encoded data removed]",
      "text/plain": [
       "<matplotlib.figure.Figure at 0x7f1b4844ba10>"
      ]
     },
     "metadata": {},
     "output_type": "display_data"
    }
   ],
   "source": [
    "plotpolys([p0,p4])"
   ]
  },
  {
   "cell_type": "code",
   "execution_count": 22,
   "metadata": {},
   "outputs": [
    {
     "name": "stdout",
     "output_type": "stream",
     "text": [
      "Intersects Touches Crosses Overlaps Within Contains Disjoint Relate\n",
      "True       False   False   False    False  True     False    212FF1FF2\n",
      "Intersects Touches Crosses Overlaps Within Contains Disjoint Relate\n",
      "True       False   False   False    True   False    False    2FF1FF212\n"
     ]
    }
   ],
   "source": [
    "printpolysrelationships(p0,p4)\n",
    "printpolysrelationships(p4,p0)"
   ]
  },
  {
   "cell_type": "code",
   "execution_count": 23,
   "metadata": {},
   "outputs": [
    {
     "data": {
      "image/png": "[encoded data removed]",
      "text/plain": [
       "<matplotlib.figure.Figure at 0x7f1b213fc810>"
      ]
     },
     "metadata": {},
     "output_type": "display_data"
    }
   ],
   "source": [
    "plotpolys([p0,p5])"
   ]
  },
  {
   "cell_type": "code",
   "execution_count": 24,
   "metadata": {},
   "outputs": [
    {
     "name": "stdout",
     "output_type": "stream",
     "text": [
      "Intersects Touches Crosses Overlaps Within Contains Disjoint Relate\n",
      "True       False   False   True     False  False    False    212101212\n"
     ]
    }
   ],
   "source": [
    "printpolysrelationships(p0,p5)"
   ]
  },
  {
   "cell_type": "code",
   "execution_count": 25,
   "metadata": {},
   "outputs": [
    {
     "data": {
      "image/png": "[encoded data removed]",
      "text/plain": [
       "<matplotlib.figure.Figure at 0x7f1b212b9c10>"
      ]
     },
     "metadata": {},
     "output_type": "display_data"
    }
   ],
   "source": [
    "plotpolys([p0,p6])"
   ]
  },
  {
   "cell_type": "code",
   "execution_count": 26,
   "metadata": {},
   "outputs": [
    {
     "name": "stdout",
     "output_type": "stream",
     "text": [
      "Intersects Touches Crosses Overlaps Within Contains Disjoint Relate\n",
      "True       True    False   False    False  False    False    FF2F11212\n"
     ]
    }
   ],
   "source": [
    "printpolysrelationships(p0,p6)"
   ]
  },
  {
   "cell_type": "code",
   "execution_count": 27,
   "metadata": {
    "collapsed": true
   },
   "outputs": [],
   "source": [
    "bsize=0.1"
   ]
  },
  {
   "cell_type": "code",
   "execution_count": 28,
   "metadata": {
    "collapsed": true
   },
   "outputs": [],
   "source": [
    "p7=p0.buffer(bsize)"
   ]
  },
  {
   "cell_type": "code",
   "execution_count": 29,
   "metadata": {},
   "outputs": [
    {
     "data": {
      "image/png": "[encoded data removed]",
      "text/plain": [
       "<matplotlib.figure.Figure at 0x7f1b212b9450>"
      ]
     },
     "metadata": {},
     "output_type": "display_data"
    }
   ],
   "source": [
    "plotpolys([p0,p7])"
   ]
  },
  {
   "cell_type": "code",
   "execution_count": 30,
   "metadata": {},
   "outputs": [
    {
     "name": "stdout",
     "output_type": "stream",
     "text": [
      "Intersects Touches Crosses Overlaps Within Contains Disjoint Relate\n",
      "True       False   False   False    True   False    False    2FF1FF212\n",
      "Intersects Touches Crosses Overlaps Within Contains Disjoint Relate\n",
      "True       False   False   False    False  True     False    212FF1FF2\n"
     ]
    }
   ],
   "source": [
    "printpolysrelationships(p0,p7)\n",
    "printpolysrelationships(p7,p0)"
   ]
  },
  {
   "cell_type": "code",
   "execution_count": 31,
   "metadata": {
    "collapsed": true
   },
   "outputs": [],
   "source": [
    "p8=p7.buffer(-bsize)"
   ]
  },
  {
   "cell_type": "code",
   "execution_count": 32,
   "metadata": {},
   "outputs": [
    {
     "data": {
      "image/png": "[encoded data removed]",
      "text/plain": [
       "<matplotlib.figure.Figure at 0x7f1b214fa050>"
      ]
     },
     "metadata": {},
     "output_type": "display_data"
    }
   ],
   "source": [
    "plotpolys([p0,p8])"
   ]
  },
  {
   "cell_type": "code",
   "execution_count": 33,
   "metadata": {},
   "outputs": [
    {
     "name": "stdout",
     "output_type": "stream",
     "text": [
      "Intersects Touches Crosses Overlaps Within Contains Disjoint Relate\n",
      "True       False   False   False    False  True     False    212F11FF2\n"
     ]
    }
   ],
   "source": [
    "printpolysrelationships(p0,p8)"
   ]
  },
  {
   "cell_type": "code",
   "execution_count": 34,
   "metadata": {
    "collapsed": true
   },
   "outputs": [],
   "source": [
    "s0 = Polygon([[0, 0], [0.3, 0], [0.3, 0.3], [0, 0.3]])"
   ]
  },
  {
   "cell_type": "code",
   "execution_count": 35,
   "metadata": {},
   "outputs": [
    {
     "data": {
      "image/png": "[encoded data removed]",
      "text/plain": [
       "<matplotlib.figure.Figure at 0x7f1b2122d1d0>"
      ]
     },
     "metadata": {},
     "output_type": "display_data"
    }
   ],
   "source": [
    "plotpolys([p0,s0])"
   ]
  },
  {
   "cell_type": "code",
   "execution_count": 36,
   "metadata": {},
   "outputs": [
    {
     "name": "stdout",
     "output_type": "stream",
     "text": [
      "Intersects Touches Crosses Overlaps Within Contains Disjoint Relate\n",
      "True       False   False   False    False  True     False    212F11FF2\n",
      "Intersects Touches Crosses Overlaps Within Contains Disjoint Relate\n",
      "True       False   False   False    True   False    False    2FF11F212\n"
     ]
    }
   ],
   "source": [
    "printpolysrelationships(p0,s0)\n",
    "printpolysrelationships(s0,p0)"
   ]
  },
  {
   "cell_type": "code",
   "execution_count": 37,
   "metadata": {
    "collapsed": true
   },
   "outputs": [],
   "source": [
    "p9=p0.buffer(-bsize)"
   ]
  },
  {
   "cell_type": "code",
   "execution_count": 38,
   "metadata": {},
   "outputs": [
    {
     "data": {
      "image/png": "[encoded data removed]",
      "text/plain": [
       "<matplotlib.figure.Figure at 0x7f1b20fd8190>"
      ]
     },
     "metadata": {},
     "output_type": "display_data"
    }
   ],
   "source": [
    "plotpolys([p9,s0])"
   ]
  },
  {
   "cell_type": "code",
   "execution_count": 39,
   "metadata": {},
   "outputs": [
    {
     "name": "stdout",
     "output_type": "stream",
     "text": [
      "Intersects Touches Crosses Overlaps Within Contains Disjoint Relate\n",
      "True       False   False   True     False  False    False    212101212\n"
     ]
    }
   ],
   "source": [
    "printpolysrelationships(p9,s0)"
   ]
  },
  {
   "cell_type": "code",
   "execution_count": 40,
   "metadata": {
    "collapsed": true
   },
   "outputs": [],
   "source": [
    "p10=p9.buffer(bsize)"
   ]
  },
  {
   "cell_type": "code",
   "execution_count": 41,
   "metadata": {},
   "outputs": [
    {
     "data": {
      "image/png": "[encoded data removed]",
      "text/plain": [
       "<matplotlib.figure.Figure at 0x7f1b21042cd0>"
      ]
     },
     "metadata": {},
     "output_type": "display_data"
    }
   ],
   "source": [
    "plotpolys([p10,s0])"
   ]
  },
  {
   "cell_type": "code",
   "execution_count": 42,
   "metadata": {},
   "outputs": [
    {
     "name": "stdout",
     "output_type": "stream",
     "text": [
      "Intersects Touches Crosses Overlaps Within Contains Disjoint Relate\n",
      "True       False   False   True     False  False    False    212101212\n"
     ]
    }
   ],
   "source": [
    "printpolysrelationships(p10,s0)"
   ]
  },
  {
   "cell_type": "code",
   "execution_count": 43,
   "metadata": {
    "collapsed": true
   },
   "outputs": [],
   "source": [
    "p4a=p4.buffer(0.1)"
   ]
  },
  {
   "cell_type": "code",
   "execution_count": 44,
   "metadata": {},
   "outputs": [
    {
     "data": {
      "image/png": "[encoded data removed]",
      "text/plain": [
       "<matplotlib.figure.Figure at 0x7f1b20ed2b50>"
      ]
     },
     "metadata": {},
     "output_type": "display_data"
    }
   ],
   "source": [
    "plotpolys([p0,p4a])"
   ]
  },
  {
   "cell_type": "code",
   "execution_count": 45,
   "metadata": {},
   "outputs": [
    {
     "name": "stdout",
     "output_type": "stream",
     "text": [
      "Intersects Touches Crosses Overlaps Within Contains Disjoint Relate\n",
      "True       False   False   False    False  True     False    212FF1FF2\n",
      "Intersects Touches Crosses Overlaps Within Contains Disjoint Relate\n",
      "True       False   False   False    True   False    False    2FF1FF212\n"
     ]
    }
   ],
   "source": [
    "printpolysrelationships(p0,p4a)\n",
    "printpolysrelationships(p4a,p0)"
   ]
  },
  {
   "cell_type": "code",
   "execution_count": null,
   "metadata": {
    "collapsed": true
   },
   "outputs": [],
   "source": []
  },
  {
   "cell_type": "code",
   "execution_count": null,
   "metadata": {
    "collapsed": true
   },
   "outputs": [],
   "source": []
  }
 ],
 "metadata": {
  "kernelspec": {
   "display_name": "Python 2",
   "language": "python",
   "name": "python2"
  },
  "language_info": {
   "codemirror_mode": {
    "name": "ipython",
    "version": 2
   },
   "file_extension": ".py",
   "mimetype": "text/x-python",
   "name": "python",
   "nbconvert_exporter": "python",
   "pygments_lexer": "ipython2",
   "version": "2.7.13"
  }
 },
 "nbformat": 4,
 "nbformat_minor": 1
}
